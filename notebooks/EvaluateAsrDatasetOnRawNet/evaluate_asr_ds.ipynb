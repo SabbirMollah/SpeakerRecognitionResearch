{
 "cells": [
  {
   "cell_type": "markdown",
   "source": [
    "# Evaluation of Bangla ASR on RawNet"
   ],
   "metadata": {}
  },
  {
   "cell_type": "markdown",
   "source": [
    "### Procedure:\r\n",
    "1. The Dataset comes with flac files. Hence we first convert the dataset in wav format.\r\n",
    "2. We load Bangla ASR dataset\r\n",
    "3. We load the RawNet Model with the best weights provided in the RawNet repository.\r\n",
    "4. We extract the Embeddings of Bangla ASR dataset using RawNet.\r\n",
    "5. We evaluate the embeddings."
   ],
   "metadata": {}
  },
  {
   "cell_type": "markdown",
   "source": [
    "## Necessary Imports"
   ],
   "metadata": {}
  },
  {
   "cell_type": "code",
   "execution_count": 1,
   "source": [
    "import os\r\n",
    "import glob\r\n",
    "\r\n",
    "import sys\r\n",
    "import csv\r\n",
    "\r\n",
    "from pathlib import PurePath, Path\r\n",
    "from pydub import AudioSegment\r\n",
    "\r\n",
    "from tqdm import tqdm"
   ],
   "outputs": [],
   "metadata": {}
  },
  {
   "cell_type": "markdown",
   "source": [
    "## Constants and directories"
   ],
   "metadata": {}
  },
  {
   "cell_type": "code",
   "execution_count": 2,
   "source": [
    "# Directories should have a trailing '/' to avoid path related errors\r\n",
    "\r\n",
    "CURRENT_WORKING_DIRECTORY = \"W:/SpeakerRecognitionResearch/\"\r\n",
    "BANGLA_ASR_FLAC_LOCATION = \"data/BanglaASR/FlacFiles/\"\r\n",
    "BANGLA_ASR_WAV_LOCATION = \"data/BanglaASR/WavFiles/\"\r\n",
    "\r\n",
    "RAWNET2_BEST_WEIGHTS_LOCATION = \"data/RawNet2/rawnet2_best_weights.pt\"\r\n",
    "\r\n",
    "# This file is provided with BANGLA_ASR dataset\r\n",
    "# It contains the anonymous speaker id of each audio\r\n",
    "BANGLA_ASR_TSV_LOCATION = \"data/BanglaASR/utt_spk_text.tsv\"\r\n",
    "\r\n",
    "# To avoid file location related errors, we make sure \"SpeakerRecognitionResearch\" root folder is the current working directory.\r\n",
    "os.chdir(CURRENT_WORKING_DIRECTORY)\r\n",
    "os.getcwd()"
   ],
   "outputs": [
    {
     "output_type": "execute_result",
     "data": {
      "text/plain": [
       "'W:\\\\SpeakerRecognitionResearch'"
      ]
     },
     "metadata": {},
     "execution_count": 2
    }
   ],
   "metadata": {}
  },
  {
   "cell_type": "markdown",
   "source": [
    "# 1. Converting FLAC to WAV"
   ],
   "metadata": {}
  },
  {
   "cell_type": "code",
   "execution_count": 3,
   "source": [
    "# We calculate the rows provided in utt_spk_text.tsv, this number can be used to verify if we have all the files from the dataset.\r\n",
    "\r\n",
    "def get_number_of_utt_in_tsv(tsv_loc):\r\n",
    "    total_utterrances = 0\r\n",
    "\r\n",
    "    with open(tsv_loc, encoding=\"utf-8\") as tsvfile:\r\n",
    "        tsvreader = csv.reader(tsvfile, delimiter=\"\\t\", quoting=csv.QUOTE_NONE)\r\n",
    "        for line in tsvreader:\r\n",
    "            total_utterrances += 1\r\n",
    "    \r\n",
    "    return total_utterrances\r\n"
   ],
   "outputs": [],
   "metadata": {}
  },
  {
   "cell_type": "code",
   "execution_count": 4,
   "source": [
    "def get_relative_location_of_audio_files(root_path, audio_format=\"wav\"):\r\n",
    "    # Traverses recursively through the root folder\r\n",
    "    # Returns list of relative locations to all the files \r\n",
    "    # matching the audio format provided\r\n",
    "\r\n",
    "    pattern = '**/*.' + audio_format\r\n",
    "    files = glob.glob(root_path + pattern , recursive=True)\r\n",
    "\r\n",
    "    # Normalize the file paths. To get file paths with '/' or '\\\\' consistently depending on OS\r\n",
    "    files = [os.path.normpath(i) for i in files]\r\n",
    "    return files"
   ],
   "outputs": [],
   "metadata": {}
  },
  {
   "cell_type": "code",
   "execution_count": 5,
   "source": [
    "file_locs = get_relative_location_of_audio_files(BANGLA_ASR_FLAC_LOCATION, audio_format=\"flac\")\r\n",
    "\r\n",
    "number_of_files = len(file_locs)\r\n",
    "number_of_rows_in_tsv = get_number_of_utt_in_tsv(BANGLA_ASR_TSV_LOCATION)\r\n",
    "\r\n",
    "assert number_of_files == number_of_rows_in_tsv , \"Number of files in the dataset doesn't match the number of rows provided in the tsv file. Please check the dataset.\""
   ],
   "outputs": [],
   "metadata": {}
  },
  {
   "cell_type": "code",
   "execution_count": 6,
   "source": [
    "# Paths may be in a non normalized form,\r\n",
    "# So, trying to replace portions of them may lead to unwanted errors\r\n",
    "\r\n",
    "def replace_root_of_path(path, old_root, new_root):\r\n",
    "    path = str(os.path.normpath(path))\r\n",
    "    old_root = str(os.path.normpath(old_root))\r\n",
    "    new_root = str(os.path.normpath(new_root))\r\n",
    "\r\n",
    "    return path.replace(old_root, new_root)"
   ],
   "outputs": [],
   "metadata": {}
  },
  {
   "cell_type": "code",
   "execution_count": 7,
   "source": [
    "assert replace_root_of_path(path=\"foo/bar/hello/00/a.jpg\", old_root=\"foo/bar\", new_root=\"spam\") == os.path.normpath(\"spam/hello/00/a.jpg\"), \"The root replacing is not working.\""
   ],
   "outputs": [],
   "metadata": {}
  },
  {
   "cell_type": "code",
   "execution_count": 8,
   "source": [
    "# Python does not automatically create directory structure when creating a file\r\n",
    "# This function will create the subdirectories required\r\n",
    "\r\n",
    "def mkdirs_from_filepath(file_path):\r\n",
    "\r\n",
    "    parent = Path(file_path).parent\r\n",
    "    os.makedirs(parent, exist_ok=True)\r\n",
    "\r\n",
    "# mkdirs_from_filepath(\"hello/bar/foo/k.jpg\")"
   ],
   "outputs": [],
   "metadata": {}
  },
  {
   "cell_type": "code",
   "execution_count": 9,
   "source": [
    "def convert_flacs_to_wavs(flacs_path, wavs_path):\r\n",
    "    flac_files = get_relative_location_of_audio_files(flacs_path, audio_format=\"flac\")\r\n",
    "\r\n",
    "    # wav file locations will be the same as the flac files\r\n",
    "    # Only the root folder will be changed\r\n",
    "    wav_files = [replace_root_of_path(flac_file_path, flacs_path, wavs_path) for flac_file_path in flac_files]\r\n",
    "\r\n",
    "    for flac_file, wav_file in tqdm(zip(flac_files, wav_files), total=len(wav_files)):\r\n",
    "\r\n",
    "        flac_file = PurePath(flac_file)\r\n",
    "\r\n",
    "        # Replace .flac with .wav from name\r\n",
    "        wav_file = wav_file.replace(wav_file.split(\".\")[-1], \"wav\")\r\n",
    "\r\n",
    "        mkdirs_from_filepath(wav_file)\r\n",
    "\r\n",
    "        flac_tmp_audio_data = AudioSegment.from_file(flac_file, flac_file.suffix[1:])\r\n",
    "        flac_tmp_audio_data.export(wav_file, format=\"wav\")\r\n"
   ],
   "outputs": [],
   "metadata": {}
  },
  {
   "cell_type": "code",
   "execution_count": 10,
   "source": [
    "# Leave this function call commented out to avoid unwanted conversions\r\n",
    "\r\n",
    "print(\"Do you want to convert the .flac files in {} to .wav files in the directory {} ?\".format(BANGLA_ASR_FLAC_LOCATION, BANGLA_ASR_WAV_LOCATION))\r\n",
    "user_input = input(\"Type YES_AND_YES to continue:\")\r\n",
    "\r\n",
    "if user_input == \"YES_AND_YES\":\r\n",
    "    convert_flacs_to_wavs(BANGLA_ASR_FLAC_LOCATION, BANGLA_ASR_WAV_LOCATION)\r\n",
    "else:\r\n",
    "    print(\"Conversion aborted!\")"
   ],
   "outputs": [
    {
     "output_type": "stream",
     "name": "stdout",
     "text": [
      "Do you want to convert the .flac files in data/BanglaASR/FlacFiles/ to .wav files in the directory data/BanglaASR/WavFiles/ ?\n",
      "Conversion aborted!\n"
     ]
    }
   ],
   "metadata": {}
  },
  {
   "cell_type": "markdown",
   "source": [
    "# 2. Loading BanglaAsrDataset\r\n",
    "\r\n",
    "In this step we load the RawNet provided [here](https://github.com/Jungjee/RawNet/blob/master/python/RawNet2/Pre-trained_model/model_RawNet2_original_code.py). We changed the file name to simply model_RawNet2.py in our use. The model is then initialized with the best weights file that can be found [here](https://github.com/Jungjee/RawNet/blob/master/python/RawNet2/Pre-trained_model/rawnet2_best_weights.pt)."
   ],
   "metadata": {}
  },
  {
   "cell_type": "code",
   "execution_count": 11,
   "source": [
    "import soundfile as sf\r\n",
    "import numpy as np\r\n",
    "\r\n",
    "from torch.utils import data"
   ],
   "outputs": [],
   "metadata": {}
  },
  {
   "cell_type": "code",
   "execution_count": 12,
   "source": [
    "# Using default parameter values used in the VoxCeleb Dataset\r\n",
    "\r\n",
    "WINDOW_SIZE = 11810\r\n",
    "NB_SAMP = 59049"
   ],
   "outputs": [],
   "metadata": {}
  },
  {
   "cell_type": "markdown",
   "source": [
    "### Bangla ASR Dataset for PyTorch usage"
   ],
   "metadata": {}
  },
  {
   "cell_type": "code",
   "execution_count": 13,
   "source": [
    "class BanglaAsrDataset(data.Dataset):\r\n",
    "\tdef __init__(self, list_IDs, nb_samp = 0, window_size = 0, labels = {}, cut = True, norm_scale = True):\r\n",
    "\t\t'''\r\n",
    "\t\tself.list_IDs\t: list of strings (each string: utt key)\r\n",
    "\t\tself.labels\t\t: dictionary (key: utt key, value: label integer)\r\n",
    "\t\tself.nb_samp\t: integer, the number of timesteps for each mini-batch\r\n",
    "\t\tcut\t\t\t\t: (boolean) adjust utterance duration for mini-batch construction\r\n",
    "\t\treturn_label\t: (boolean) \r\n",
    "\t\tnorm_scale\t\t: (boolean) normalize scale alike SincNet github repo\r\n",
    "\t\t'''\r\n",
    "\t\tself.list_IDs = list_IDs\r\n",
    "\t\tself.window_size = window_size\r\n",
    "\t\tself.nb_samp = nb_samp\r\n",
    "\t\tself.labels = labels\r\n",
    "\t\tself.cut = cut\r\n",
    "\t\tself.norm_scale = norm_scale\r\n",
    "\t\tif self.cut and self.nb_samp == 0: \r\n",
    "\t\t\traise ValueError('when adjusting utterance length, \"nb_samp\" should be passed as parameter')\r\n",
    "\r\n",
    "\tdef _normalize_scale(self, x):\r\n",
    "\t\t'''\r\n",
    "\t\tNormalize sample scale alike SincNet.\r\n",
    "\t\t'''\r\n",
    "\t\treturn x/np.max(np.abs(x))\r\n",
    "\r\n",
    "\tdef __len__(self):\r\n",
    "\t\treturn len(self.list_IDs)\r\n",
    "\r\n",
    "\tdef __getitem__(self, index):\r\n",
    "\t\tID = self.list_IDs[index]\r\n",
    "\t\ttry:\r\n",
    "\t\t\tX, _ = sf.read(ID) \r\n",
    "\t\t\tX = X.astype(np.float64)\r\n",
    "\t\texcept:\r\n",
    "\t\t\traise ValueError('%s'%ID)\r\n",
    "\r\n",
    "\t\tif self.norm_scale:\r\n",
    "\t\t\tX = self._normalize_scale(X).astype(np.float32)\r\n",
    "\t\tX = X.reshape(1,-1)\r\n",
    "\r\n",
    "\t\tlist_X = []\r\n",
    "\t\tnb_time = X.shape[1]\r\n",
    "\t\tif nb_time < self.nb_samp:\r\n",
    "\t\t\tnb_dup = int(self.nb_samp / nb_time) + 1\r\n",
    "\t\t\tlist_X.append(np.tile(X, (1, nb_dup))[:, :self.nb_samp][0])\r\n",
    "\t\telif nb_time > self.nb_samp:\r\n",
    "\t\t\tstep = self.nb_samp - self.window_size\r\n",
    "\t\t\titeration = int( (nb_time - self.window_size) / step ) + 1\r\n",
    "\t\t\tfor i in range(iteration):\r\n",
    "\t\t\t\tif i == 0:\r\n",
    "\t\t\t\t\tlist_X.append(X[:, :self.nb_samp][0])\r\n",
    "\t\t\t\telif i < iteration - 1:\r\n",
    "\t\t\t\t\tlist_X.append(X[:, i*step : i*step + self.nb_samp][0])\r\n",
    "\t\t\t\telse:\r\n",
    "\t\t\t\t\tlist_X.append(X[:, -self.nb_samp:][0])\r\n",
    "\t\telse :\r\n",
    "\t\t\tlist_X.append(X[0])\r\n",
    "\r\n",
    "\t\t\r\n",
    "\t\tfilename_from_path = Path(ID).stem\r\n",
    "\t\ty = self.labels[filename_from_path]\r\n",
    "\r\n",
    "\t\treturn list_X, y, ID"
   ],
   "outputs": [],
   "metadata": {}
  },
  {
   "cell_type": "code",
   "execution_count": 14,
   "source": [
    "def generate_labels_from_tsv(wav_list, tsv_loc):\r\n",
    "    labels = {}\r\n",
    "\r\n",
    "    with open(tsv_loc, encoding=\"utf-8\") as tsvfile:\r\n",
    "        tsvreader = csv.reader(tsvfile, delimiter=\"\\t\", quoting=csv.QUOTE_NONE)\r\n",
    "        for line in tsvreader:\r\n",
    "            wav_file_name = line[0]\r\n",
    "            speaker_id = line[1]\r\n",
    "\r\n",
    "            labels[wav_file_name] = speaker_id\r\n",
    "\r\n",
    "    return labels"
   ],
   "outputs": [],
   "metadata": {}
  },
  {
   "cell_type": "code",
   "execution_count": 15,
   "source": [
    "wav_list = get_relative_location_of_audio_files(BANGLA_ASR_WAV_LOCATION)\r\n",
    "\r\n",
    "labels = generate_labels_from_tsv(wav_list, BANGLA_ASR_TSV_LOCATION)\r\n",
    "\r\n",
    "assert labels['000020a912'] == '16cfb', \"Either file id to speaker id mapping changed, or labels were not retrieved properly.\""
   ],
   "outputs": [],
   "metadata": {}
  },
  {
   "cell_type": "code",
   "execution_count": 16,
   "source": [
    "bangla_asr_dataset = BanglaAsrDataset(\r\n",
    "    list_IDs=wav_list,\r\n",
    "    labels=labels,\r\n",
    "    window_size=WINDOW_SIZE,\r\n",
    "    nb_samp=NB_SAMP,\r\n",
    ")"
   ],
   "outputs": [],
   "metadata": {}
  },
  {
   "cell_type": "code",
   "execution_count": 18,
   "source": [
    "bangla_asr_dataset[0]"
   ],
   "outputs": [
    {
     "output_type": "execute_result",
     "data": {
      "text/plain": [
       "([array([ 0.01430657,  0.01109489,  0.01080292, ..., -0.00583942,\n",
       "         -0.00554745, -0.00963504], dtype=float32)],\n",
       " '16cfb',\n",
       " 'data\\\\BanglaASR\\\\WavFiles\\\\asr_bengali_0\\\\asr_bengali\\\\data\\\\00\\\\000020a912.wav')"
      ]
     },
     "metadata": {},
     "execution_count": 18
    }
   ],
   "metadata": {}
  },
  {
   "cell_type": "markdown",
   "source": [
    "# 3. Loading RawNet with Best Weights"
   ],
   "metadata": {}
  },
  {
   "cell_type": "code",
   "execution_count": 19,
   "source": [
    "import torch\r\n",
    "from model_RawNet2 import RawNet"
   ],
   "outputs": [],
   "metadata": {}
  },
  {
   "cell_type": "code",
   "execution_count": 20,
   "source": [
    "# Default value was 8, however NoteBook doesn't support >0\r\n",
    "NB_WORKER = 0"
   ],
   "outputs": [],
   "metadata": {}
  },
  {
   "cell_type": "code",
   "execution_count": 21,
   "source": [
    "device = \"cuda\" if torch.cuda.is_available() else \"cpu\"\r\n",
    "print(\"Using {}.\".format(device))\r\n",
    "if device==\"cuda\": print(torch.cuda.get_device_name(0))"
   ],
   "outputs": [
    {
     "output_type": "stream",
     "name": "stdout",
     "text": [
      "Using cuda.\n",
      "NVIDIA GeForce GTX 1050\n"
     ]
    }
   ],
   "metadata": {}
  },
  {
   "cell_type": "code",
   "execution_count": 22,
   "source": [
    "model_dict = {}\r\n",
    "model_dict['nb_classes'] = 6112\r\n",
    "model_dict['first_conv'] = 251\r\n",
    "model_dict['in_channels'] = 1\r\n",
    "model_dict['filts'] = [128, [128,128], [128,256], [256,256]]\r\n",
    "model_dict['m_blocks'] = [2, 4]\r\n",
    "model_dict['nb_fc_att_node'] =[1]\r\n",
    "model_dict['nb_fc_node'] = 1024\r\n",
    "model_dict['gru_node'] = 1024\r\n",
    "model_dict['nb_gru_layer'] = 1\r\n",
    "model_dict['nb_samp'] = 59049"
   ],
   "outputs": [],
   "metadata": {}
  },
  {
   "cell_type": "code",
   "execution_count": 23,
   "source": [
    "model = RawNet(model_dict, device)\r\n",
    "model.load_state_dict(torch.load(RAWNET2_BEST_WEIGHTS_LOCATION))\r\n",
    "model.to(device)"
   ],
   "outputs": [
    {
     "output_type": "execute_result",
     "data": {
      "text/plain": [
       "RawNet(\n",
       "  (ln): LayerNorm()\n",
       "  (first_conv): SincConv_fast()\n",
       "  (first_bn): BatchNorm1d(128, eps=1e-05, momentum=0.1, affine=True, track_running_stats=True)\n",
       "  (lrelu): LeakyReLU(negative_slope=0.01)\n",
       "  (lrelu_keras): LeakyReLU(negative_slope=0.3)\n",
       "  (block0): Sequential(\n",
       "    (0): Residual_block(\n",
       "      (lrelu): LeakyReLU(negative_slope=0.01)\n",
       "      (lrelu_keras): LeakyReLU(negative_slope=0.3)\n",
       "      (conv1): Conv1d(128, 128, kernel_size=(3,), stride=(1,), padding=(1,))\n",
       "      (bn2): BatchNorm1d(128, eps=1e-05, momentum=0.1, affine=True, track_running_stats=True)\n",
       "      (conv2): Conv1d(128, 128, kernel_size=(3,), stride=(1,), padding=(1,))\n",
       "      (mp): MaxPool1d(kernel_size=3, stride=3, padding=0, dilation=1, ceil_mode=False)\n",
       "    )\n",
       "  )\n",
       "  (block1): Sequential(\n",
       "    (0): Residual_block(\n",
       "      (bn1): BatchNorm1d(128, eps=1e-05, momentum=0.1, affine=True, track_running_stats=True)\n",
       "      (lrelu): LeakyReLU(negative_slope=0.01)\n",
       "      (lrelu_keras): LeakyReLU(negative_slope=0.3)\n",
       "      (conv1): Conv1d(128, 128, kernel_size=(3,), stride=(1,), padding=(1,))\n",
       "      (bn2): BatchNorm1d(128, eps=1e-05, momentum=0.1, affine=True, track_running_stats=True)\n",
       "      (conv2): Conv1d(128, 128, kernel_size=(3,), stride=(1,), padding=(1,))\n",
       "      (mp): MaxPool1d(kernel_size=3, stride=3, padding=0, dilation=1, ceil_mode=False)\n",
       "    )\n",
       "  )\n",
       "  (block2): Sequential(\n",
       "    (0): Residual_block(\n",
       "      (bn1): BatchNorm1d(128, eps=1e-05, momentum=0.1, affine=True, track_running_stats=True)\n",
       "      (lrelu): LeakyReLU(negative_slope=0.01)\n",
       "      (lrelu_keras): LeakyReLU(negative_slope=0.3)\n",
       "      (conv1): Conv1d(128, 256, kernel_size=(3,), stride=(1,), padding=(1,))\n",
       "      (bn2): BatchNorm1d(256, eps=1e-05, momentum=0.1, affine=True, track_running_stats=True)\n",
       "      (conv2): Conv1d(256, 256, kernel_size=(3,), stride=(1,), padding=(1,))\n",
       "      (conv_downsample): Conv1d(128, 256, kernel_size=(1,), stride=(1,))\n",
       "      (mp): MaxPool1d(kernel_size=3, stride=3, padding=0, dilation=1, ceil_mode=False)\n",
       "    )\n",
       "  )\n",
       "  (block3): Sequential(\n",
       "    (0): Residual_block(\n",
       "      (bn1): BatchNorm1d(256, eps=1e-05, momentum=0.1, affine=True, track_running_stats=True)\n",
       "      (lrelu): LeakyReLU(negative_slope=0.01)\n",
       "      (lrelu_keras): LeakyReLU(negative_slope=0.3)\n",
       "      (conv1): Conv1d(256, 256, kernel_size=(3,), stride=(1,), padding=(1,))\n",
       "      (bn2): BatchNorm1d(256, eps=1e-05, momentum=0.1, affine=True, track_running_stats=True)\n",
       "      (conv2): Conv1d(256, 256, kernel_size=(3,), stride=(1,), padding=(1,))\n",
       "      (mp): MaxPool1d(kernel_size=3, stride=3, padding=0, dilation=1, ceil_mode=False)\n",
       "    )\n",
       "  )\n",
       "  (block4): Sequential(\n",
       "    (0): Residual_block(\n",
       "      (bn1): BatchNorm1d(256, eps=1e-05, momentum=0.1, affine=True, track_running_stats=True)\n",
       "      (lrelu): LeakyReLU(negative_slope=0.01)\n",
       "      (lrelu_keras): LeakyReLU(negative_slope=0.3)\n",
       "      (conv1): Conv1d(256, 256, kernel_size=(3,), stride=(1,), padding=(1,))\n",
       "      (bn2): BatchNorm1d(256, eps=1e-05, momentum=0.1, affine=True, track_running_stats=True)\n",
       "      (conv2): Conv1d(256, 256, kernel_size=(3,), stride=(1,), padding=(1,))\n",
       "      (mp): MaxPool1d(kernel_size=3, stride=3, padding=0, dilation=1, ceil_mode=False)\n",
       "    )\n",
       "  )\n",
       "  (block5): Sequential(\n",
       "    (0): Residual_block(\n",
       "      (bn1): BatchNorm1d(256, eps=1e-05, momentum=0.1, affine=True, track_running_stats=True)\n",
       "      (lrelu): LeakyReLU(negative_slope=0.01)\n",
       "      (lrelu_keras): LeakyReLU(negative_slope=0.3)\n",
       "      (conv1): Conv1d(256, 256, kernel_size=(3,), stride=(1,), padding=(1,))\n",
       "      (bn2): BatchNorm1d(256, eps=1e-05, momentum=0.1, affine=True, track_running_stats=True)\n",
       "      (conv2): Conv1d(256, 256, kernel_size=(3,), stride=(1,), padding=(1,))\n",
       "      (mp): MaxPool1d(kernel_size=3, stride=3, padding=0, dilation=1, ceil_mode=False)\n",
       "    )\n",
       "  )\n",
       "  (avgpool): AdaptiveAvgPool1d(output_size=1)\n",
       "  (fc_attention0): Sequential(\n",
       "    (0): Linear(in_features=128, out_features=128, bias=True)\n",
       "  )\n",
       "  (fc_attention1): Sequential(\n",
       "    (0): Linear(in_features=128, out_features=128, bias=True)\n",
       "  )\n",
       "  (fc_attention2): Sequential(\n",
       "    (0): Linear(in_features=256, out_features=256, bias=True)\n",
       "  )\n",
       "  (fc_attention3): Sequential(\n",
       "    (0): Linear(in_features=256, out_features=256, bias=True)\n",
       "  )\n",
       "  (fc_attention4): Sequential(\n",
       "    (0): Linear(in_features=256, out_features=256, bias=True)\n",
       "  )\n",
       "  (fc_attention5): Sequential(\n",
       "    (0): Linear(in_features=256, out_features=256, bias=True)\n",
       "  )\n",
       "  (bn_before_gru): BatchNorm1d(256, eps=1e-05, momentum=0.1, affine=True, track_running_stats=True)\n",
       "  (gru): GRU(256, 1024, batch_first=True)\n",
       "  (fc1_gru): Linear(in_features=1024, out_features=1024, bias=True)\n",
       "  (fc2_gru): Linear(in_features=1024, out_features=6112, bias=True)\n",
       "  (sig): Sigmoid()\n",
       ")"
      ]
     },
     "metadata": {},
     "execution_count": 23
    }
   ],
   "metadata": {}
  },
  {
   "cell_type": "code",
   "execution_count": 24,
   "source": [
    "# Create DataLoader for Dataset\r\n",
    "\r\n",
    "bangla_asr_dataloader = data.DataLoader(bangla_asr_dataset,\r\n",
    "            batch_size = 1, \r\n",
    "            shuffle = False,\r\n",
    "            drop_last = False,\r\n",
    "            num_workers = NB_WORKER)"
   ],
   "outputs": [],
   "metadata": {}
  },
  {
   "cell_type": "markdown",
   "source": [
    "# 4. Extract Embeddings"
   ],
   "metadata": {}
  },
  {
   "cell_type": "code",
   "execution_count": 25,
   "source": [
    "# Model must be in eval mode to extract embedding\r\n",
    "\r\n",
    "model.eval()"
   ],
   "outputs": [
    {
     "output_type": "execute_result",
     "data": {
      "text/plain": [
       "RawNet(\n",
       "  (ln): LayerNorm()\n",
       "  (first_conv): SincConv_fast()\n",
       "  (first_bn): BatchNorm1d(128, eps=1e-05, momentum=0.1, affine=True, track_running_stats=True)\n",
       "  (lrelu): LeakyReLU(negative_slope=0.01)\n",
       "  (lrelu_keras): LeakyReLU(negative_slope=0.3)\n",
       "  (block0): Sequential(\n",
       "    (0): Residual_block(\n",
       "      (lrelu): LeakyReLU(negative_slope=0.01)\n",
       "      (lrelu_keras): LeakyReLU(negative_slope=0.3)\n",
       "      (conv1): Conv1d(128, 128, kernel_size=(3,), stride=(1,), padding=(1,))\n",
       "      (bn2): BatchNorm1d(128, eps=1e-05, momentum=0.1, affine=True, track_running_stats=True)\n",
       "      (conv2): Conv1d(128, 128, kernel_size=(3,), stride=(1,), padding=(1,))\n",
       "      (mp): MaxPool1d(kernel_size=3, stride=3, padding=0, dilation=1, ceil_mode=False)\n",
       "    )\n",
       "  )\n",
       "  (block1): Sequential(\n",
       "    (0): Residual_block(\n",
       "      (bn1): BatchNorm1d(128, eps=1e-05, momentum=0.1, affine=True, track_running_stats=True)\n",
       "      (lrelu): LeakyReLU(negative_slope=0.01)\n",
       "      (lrelu_keras): LeakyReLU(negative_slope=0.3)\n",
       "      (conv1): Conv1d(128, 128, kernel_size=(3,), stride=(1,), padding=(1,))\n",
       "      (bn2): BatchNorm1d(128, eps=1e-05, momentum=0.1, affine=True, track_running_stats=True)\n",
       "      (conv2): Conv1d(128, 128, kernel_size=(3,), stride=(1,), padding=(1,))\n",
       "      (mp): MaxPool1d(kernel_size=3, stride=3, padding=0, dilation=1, ceil_mode=False)\n",
       "    )\n",
       "  )\n",
       "  (block2): Sequential(\n",
       "    (0): Residual_block(\n",
       "      (bn1): BatchNorm1d(128, eps=1e-05, momentum=0.1, affine=True, track_running_stats=True)\n",
       "      (lrelu): LeakyReLU(negative_slope=0.01)\n",
       "      (lrelu_keras): LeakyReLU(negative_slope=0.3)\n",
       "      (conv1): Conv1d(128, 256, kernel_size=(3,), stride=(1,), padding=(1,))\n",
       "      (bn2): BatchNorm1d(256, eps=1e-05, momentum=0.1, affine=True, track_running_stats=True)\n",
       "      (conv2): Conv1d(256, 256, kernel_size=(3,), stride=(1,), padding=(1,))\n",
       "      (conv_downsample): Conv1d(128, 256, kernel_size=(1,), stride=(1,))\n",
       "      (mp): MaxPool1d(kernel_size=3, stride=3, padding=0, dilation=1, ceil_mode=False)\n",
       "    )\n",
       "  )\n",
       "  (block3): Sequential(\n",
       "    (0): Residual_block(\n",
       "      (bn1): BatchNorm1d(256, eps=1e-05, momentum=0.1, affine=True, track_running_stats=True)\n",
       "      (lrelu): LeakyReLU(negative_slope=0.01)\n",
       "      (lrelu_keras): LeakyReLU(negative_slope=0.3)\n",
       "      (conv1): Conv1d(256, 256, kernel_size=(3,), stride=(1,), padding=(1,))\n",
       "      (bn2): BatchNorm1d(256, eps=1e-05, momentum=0.1, affine=True, track_running_stats=True)\n",
       "      (conv2): Conv1d(256, 256, kernel_size=(3,), stride=(1,), padding=(1,))\n",
       "      (mp): MaxPool1d(kernel_size=3, stride=3, padding=0, dilation=1, ceil_mode=False)\n",
       "    )\n",
       "  )\n",
       "  (block4): Sequential(\n",
       "    (0): Residual_block(\n",
       "      (bn1): BatchNorm1d(256, eps=1e-05, momentum=0.1, affine=True, track_running_stats=True)\n",
       "      (lrelu): LeakyReLU(negative_slope=0.01)\n",
       "      (lrelu_keras): LeakyReLU(negative_slope=0.3)\n",
       "      (conv1): Conv1d(256, 256, kernel_size=(3,), stride=(1,), padding=(1,))\n",
       "      (bn2): BatchNorm1d(256, eps=1e-05, momentum=0.1, affine=True, track_running_stats=True)\n",
       "      (conv2): Conv1d(256, 256, kernel_size=(3,), stride=(1,), padding=(1,))\n",
       "      (mp): MaxPool1d(kernel_size=3, stride=3, padding=0, dilation=1, ceil_mode=False)\n",
       "    )\n",
       "  )\n",
       "  (block5): Sequential(\n",
       "    (0): Residual_block(\n",
       "      (bn1): BatchNorm1d(256, eps=1e-05, momentum=0.1, affine=True, track_running_stats=True)\n",
       "      (lrelu): LeakyReLU(negative_slope=0.01)\n",
       "      (lrelu_keras): LeakyReLU(negative_slope=0.3)\n",
       "      (conv1): Conv1d(256, 256, kernel_size=(3,), stride=(1,), padding=(1,))\n",
       "      (bn2): BatchNorm1d(256, eps=1e-05, momentum=0.1, affine=True, track_running_stats=True)\n",
       "      (conv2): Conv1d(256, 256, kernel_size=(3,), stride=(1,), padding=(1,))\n",
       "      (mp): MaxPool1d(kernel_size=3, stride=3, padding=0, dilation=1, ceil_mode=False)\n",
       "    )\n",
       "  )\n",
       "  (avgpool): AdaptiveAvgPool1d(output_size=1)\n",
       "  (fc_attention0): Sequential(\n",
       "    (0): Linear(in_features=128, out_features=128, bias=True)\n",
       "  )\n",
       "  (fc_attention1): Sequential(\n",
       "    (0): Linear(in_features=128, out_features=128, bias=True)\n",
       "  )\n",
       "  (fc_attention2): Sequential(\n",
       "    (0): Linear(in_features=256, out_features=256, bias=True)\n",
       "  )\n",
       "  (fc_attention3): Sequential(\n",
       "    (0): Linear(in_features=256, out_features=256, bias=True)\n",
       "  )\n",
       "  (fc_attention4): Sequential(\n",
       "    (0): Linear(in_features=256, out_features=256, bias=True)\n",
       "  )\n",
       "  (fc_attention5): Sequential(\n",
       "    (0): Linear(in_features=256, out_features=256, bias=True)\n",
       "  )\n",
       "  (bn_before_gru): BatchNorm1d(256, eps=1e-05, momentum=0.1, affine=True, track_running_stats=True)\n",
       "  (gru): GRU(256, 1024, batch_first=True)\n",
       "  (fc1_gru): Linear(in_features=1024, out_features=1024, bias=True)\n",
       "  (fc2_gru): Linear(in_features=1024, out_features=6112, bias=True)\n",
       "  (sig): Sigmoid()\n",
       ")"
      ]
     },
     "metadata": {},
     "execution_count": 25
    }
   ],
   "metadata": {}
  },
  {
   "cell_type": "code",
   "execution_count": null,
   "source": [
    "with torch.set_grad_enabled(False):\r\n",
    "    #1st, extract speaker embeddings.\r\n",
    "    l_embeddings = []\r\n",
    "    # Each m_batch is a single wav\r\n",
    "    for m_batch in tqdm(bangla_asr_dataloader, total=len(wav_list)):\r\n",
    "        l_code = []\r\n",
    "        for batch in m_batch[0]:\r\n",
    "            batch = batch.to(device)\r\n",
    "            code = model(x = batch, is_test=True)\r\n",
    "\r\n",
    "            l_code.extend(code.cpu().numpy())\r\n",
    "        l_embedding = np.mean(l_code, axis=0)\r\n",
    "        l_embeddings.append((l_embedding, m_batch[2]))"
   ],
   "outputs": [],
   "metadata": {}
  },
  {
   "cell_type": "code",
   "execution_count": null,
   "source": [],
   "outputs": [],
   "metadata": {}
  }
 ],
 "metadata": {
  "orig_nbformat": 4,
  "language_info": {
   "name": "python",
   "version": "3.6.13",
   "mimetype": "text/x-python",
   "codemirror_mode": {
    "name": "ipython",
    "version": 3
   },
   "pygments_lexer": "ipython3",
   "nbconvert_exporter": "python",
   "file_extension": ".py"
  },
  "kernelspec": {
   "name": "python3",
   "display_name": "Python 3.6.13 64-bit ('pytorch': conda)"
  },
  "interpreter": {
   "hash": "83fea67622c0fa859a960c0bf8a89199ff21c56f3cdd300f29516e12427a6ea7"
  }
 },
 "nbformat": 4,
 "nbformat_minor": 2
}