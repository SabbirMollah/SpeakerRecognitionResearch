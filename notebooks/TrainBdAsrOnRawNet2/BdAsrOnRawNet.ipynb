{
 "cells": [
  {
   "cell_type": "markdown",
   "source": [
    "# TrainRawNet2: On BD ASR Dataset"
   ],
   "metadata": {}
  },
  {
   "cell_type": "markdown",
   "source": [
    "Necessary Imports:"
   ],
   "metadata": {}
  },
  {
   "cell_type": "code",
   "execution_count": 1,
   "source": [
    "import torch\r\n",
    "from torch.utils import data\r\n",
    "\r\n",
    "import torchaudio\r\n",
    "\r\n",
    "import csv\r\n",
    "import pandas as pd\r\n",
    "\r\n",
    "import glob\r\n",
    "from pathlib import Path"
   ],
   "outputs": [],
   "metadata": {}
  },
  {
   "cell_type": "markdown",
   "source": [
    "Directories and lcoations:"
   ],
   "metadata": {}
  },
  {
   "cell_type": "code",
   "execution_count": 115,
   "source": [
    "# Directories are assumed to have a trailing '/' or '\\\\' in all the subsequent code\r\n",
    "\r\n",
    "CURRENT_WORKING_DIRECTORY = \"W:/SpeakerRecognitionResearch\"\r\n",
    "\r\n",
    "BANGLA_ASR_DATASET_DIRECTORY = \"data/BanglaASR/WavFiles/\"\r\n",
    "BANGLA_ASR_TSV_LOCATION = \"data/BanglaASR/utt_spk_text.tsv\"\r\n",
    "\r\n",
    "# To avoid file location related errors, we make sure \"SpeakerRecognitionResearch\" root folder is the current working directory.\r\n",
    "os.chdir(CURRENT_WORKING_DIRECTORY)\r\n",
    "os.getcwd()"
   ],
   "outputs": [
    {
     "output_type": "execute_result",
     "data": {
      "text/plain": [
       "'W:\\\\SpeakerRecognitionResearch'"
      ]
     },
     "metadata": {},
     "execution_count": 115
    }
   ],
   "metadata": {}
  },
  {
   "cell_type": "markdown",
   "source": [
    "Constants:"
   ],
   "metadata": {}
  },
  {
   "cell_type": "code",
   "execution_count": 116,
   "source": [
    "# If sample_rate = 16K and number_of_samples = 32000, then each tensor will be equivalent to 2 seconds of data\r\n",
    "SAMPLE_RATE = 16000\r\n",
    "NUMBER_OF_SAMPLES = 32000\r\n",
    "\r\n",
    "# Bangla ASR Dataset has around half of second of silence in the beginning\r\n",
    "# This constant will be used to cut samples from the left of the audio\r\n",
    "TRIM_AMOUNT_TIME = 0.5"
   ],
   "outputs": [],
   "metadata": {}
  },
  {
   "cell_type": "code",
   "execution_count": 117,
   "source": [
    "# Device\r\n",
    "\r\n",
    "device = \"cuda\" if torch.cuda.is_available() else \"cpu\"\r\n",
    "print(\"Using {}.\".format(device))\r\n",
    "if device==\"cuda\": print(torch.cuda.get_device_name(0))"
   ],
   "outputs": [
    {
     "output_type": "stream",
     "name": "stdout",
     "text": [
      "Using cuda.\n",
      "NVIDIA GeForce GTX 1050\n"
     ]
    }
   ],
   "metadata": {}
  },
  {
   "cell_type": "markdown",
   "source": [
    "## Custom dataset for Bangla ASR\r\n",
    "\r\n",
    "This custom dataset is written with the assumption that the Dataset has been already converted into wav format. Check evaluate_asr_ds.ipynb notebook for conversion method."
   ],
   "metadata": {}
  },
  {
   "cell_type": "code",
   "execution_count": 118,
   "source": [
    "class BanglaAsrDataset(data.Dataset):\r\n",
    "    def __init__(self, dataset_dir, tsv_loc, target_sample_rate, target_num_samples, trim_amount_time, device):\r\n",
    "\r\n",
    "        tsv_dataframe = pd.read_csv(tsv_loc, quoting=csv.QUOTE_NONE, sep='\\t', header=None)\r\n",
    "\r\n",
    "        # The TSV file contains speech annotations in the third column.\r\n",
    "        # We don't need the annotations, so we drop the column\r\n",
    "        tsv_dataframe = tsv_dataframe.iloc[:,:-1]\r\n",
    "\r\n",
    "        self.dataset_dir = dataset_dir\r\n",
    "        self.wav_to_spk_mapping = dict(sorted(tsv_dataframe.values.tolist()))\r\n",
    "        self.wav_path_list = self._get_audio_path_list()\r\n",
    "        self.target_sample_rate = target_sample_rate\r\n",
    "        self.target_num_samples = target_num_samples\r\n",
    "        self.trim_amount_time = trim_amount_time\r\n",
    "        self.device = device\r\n",
    "        \r\n",
    "    def _get_audio_path_list(self):\r\n",
    "        pattern = '**/*.wav'\r\n",
    "        files = glob.glob(self.dataset_dir + pattern , recursive=True)\r\n",
    "\r\n",
    "        # Normalize the file paths. To get file paths with '/' or '\\\\' consistently depending on OS\r\n",
    "        wav_list = [os.path.normpath(i) for i in files]\r\n",
    "        return wav_list\r\n",
    "\r\n",
    "    def _resample_to_target_sr(self, signal, sample_rate):\r\n",
    "        if sample_rate != self.target_sample_rate:\r\n",
    "            resampler = torchaudio.transforms.Resample(sample_rate, self.target_sample_rate)\r\n",
    "            signal = resampler(signal)\r\n",
    "        return signal\r\n",
    "\r\n",
    "    def _mix_down_to_mono(self, signal):\r\n",
    "        if signal.shape[0] > 1:\r\n",
    "            signal = torch.mean(siggnal, dim=0, keepdim=True)\r\n",
    "        return signal\r\n",
    "\r\n",
    "    def _trim(self, signal):\r\n",
    "        total_samples = signal.shape[-1]\r\n",
    "\r\n",
    "        # We cut a fixed amount on the left side if the signal is big enough\r\n",
    "        trim_samples_amount = int(self.target_sample_rate * self.trim_amount_time)\r\n",
    "\r\n",
    "        if total_samples >= trim_samples_amount + self.target_num_samples:\r\n",
    "            signal = signal[: , trim_samples_amount:]\r\n",
    "            total_samples = signal.shape[-1]\r\n",
    "\r\n",
    "        # We cut from the right side if the signal is too big\r\n",
    "        if total_samples > self.target_num_samples:\r\n",
    "            signal = signal[:, :self.target_num_samples]\r\n",
    "        \r\n",
    "        # We add zero padding on the right if signal is too small\r\n",
    "        if total_samples < self.target_num_samples:\r\n",
    "            num_missing_samples = self.target_num_samples - total_samples\r\n",
    "            last_dim_padding = (0, num_missing_samples)\r\n",
    "            signal = torch.nn.functional.pad(signal, last_dim_padding)\r\n",
    "            \r\n",
    "        return signal\r\n",
    "\r\n",
    "    def _normalize_like_sincnet(self, signal):\r\n",
    "        return signal/torch.max(torch.abs(signal))\r\n",
    "\r\n",
    "    def __len__(self):\r\n",
    "        return len(self.wav_to_spk_mapping)\r\n",
    "\r\n",
    "    def __getitem__(self, index):\r\n",
    "        wav_path = self.wav_path_list[index]\r\n",
    "        wav_name = Path(wav_path).stem\r\n",
    "        label = self.wav_to_spk_mapping[wav_name]\r\n",
    "\r\n",
    "        signal, sample_rate = torchaudio.load(wav_path)\r\n",
    "        signal = signal.to(self.device)\r\n",
    "\r\n",
    "        signal = self._resample_to_target_sr(signal, sample_rate)\r\n",
    "        signal = self._mix_down_to_mono(signal)\r\n",
    "\r\n",
    "        signal =  self._trim(signal)\r\n",
    "        signal = self._normalize_like_sincnet(signal)\r\n",
    "\r\n",
    "        return signal, label"
   ],
   "outputs": [],
   "metadata": {}
  },
  {
   "cell_type": "code",
   "execution_count": 119,
   "source": [
    "bangla_asr_dataset = BanglaAsrDataset(\r\n",
    "    dataset_dir=BANGLA_ASR_DATASET_DIRECTORY,\r\n",
    "    tsv_loc = BANGLA_ASR_TSV_LOCATION,\r\n",
    "    target_sample_rate=SAMPLE_RATE,\r\n",
    "    target_num_samples = NUMBER_OF_SAMPLES,\r\n",
    "    trim_amount_time = TRIM_AMOUNT_TIME,\r\n",
    "    device = device\r\n",
    ")\r\n",
    "\r\n",
    "assert bangla_asr_dataset.wav_to_spk_mapping['000020a912'] == '16cfb' , \"The dictionary returned wrong mapping\""
   ],
   "outputs": [],
   "metadata": {}
  },
  {
   "cell_type": "code",
   "execution_count": 120,
   "source": [
    "print(bangla_asr_dataset[0])\r\n",
    "print(bangla_asr_dataset[0][0])\r\n",
    "print(bangla_asr_dataset[0][0].shape)"
   ],
   "outputs": [
    {
     "output_type": "stream",
     "name": "stdout",
     "text": [
      "(tensor([[-0.0076, -0.0041,  0.0149,  ..., -0.1191, -0.1366, -0.1302]],\n",
      "       device='cuda:0'), '16cfb')\n",
      "tensor([[-0.0076, -0.0041,  0.0149,  ..., -0.1191, -0.1366, -0.1302]],\n",
      "       device='cuda:0')\n",
      "torch.Size([1, 32000])\n"
     ]
    }
   ],
   "metadata": {}
  },
  {
   "cell_type": "markdown",
   "source": [
    "# Model !"
   ],
   "metadata": {}
  },
  {
   "cell_type": "code",
   "execution_count": 135,
   "source": [
    "from torch import nn\r\n",
    "from torchsummary import summary\r\n",
    "\r\n",
    "import numpy as np\r\n",
    "import math\r\n",
    "\r\n",
    "import torch.nn.functional as F\r\n",
    "from tqdm import tqdm"
   ],
   "outputs": [],
   "metadata": {}
  },
  {
   "cell_type": "markdown",
   "source": [
    "## FRM"
   ],
   "metadata": {}
  },
  {
   "cell_type": "code",
   "execution_count": 122,
   "source": [
    "class FRM(nn.Module):\r\n",
    "    def __init__(self, nb_dim, do_add = True, do_mul = True):\r\n",
    "        super(FRM, self).__init__()\r\n",
    "        self.fc = nn.Linear(nb_dim, nb_dim)\r\n",
    "        self.sig = nn.Sigmoid()\r\n",
    "        self.do_add = do_add\r\n",
    "        self.do_mul = do_mul\r\n",
    "    def forward(self, x):\r\n",
    "        y = F.adaptive_avg_pool1d(x, 1).view(x.size(0), -1)\r\n",
    "        \r\n",
    "        y = self.sig(self.fc(y)).view(x.size(0), x.size(1), -1)\r\n",
    "\r\n",
    "        if self.do_mul: x = x * y\r\n",
    "        if self.do_add: x = x + y\r\n",
    "        return x"
   ],
   "outputs": [],
   "metadata": {}
  },
  {
   "cell_type": "markdown",
   "source": [
    "## Residual Block wFRM"
   ],
   "metadata": {}
  },
  {
   "cell_type": "code",
   "execution_count": 123,
   "source": [
    "class Residual_block_wFRM(nn.Module):\r\n",
    "    def __init__(self, nb_filts, first = False):\r\n",
    "        super(Residual_block_wFRM, self).__init__()\r\n",
    "        self.first = first\r\n",
    "        if not self.first:\r\n",
    "            self.bn1 = nn.BatchNorm1d(num_features = nb_filts[0])\r\n",
    "        self.lrelu = nn.LeakyReLU()\r\n",
    "        self.lrelu_keras = nn.LeakyReLU(negative_slope=0.3)\r\n",
    "        \r\n",
    "        self.conv1 = nn.Conv1d(in_channels = nb_filts[0],\r\n",
    "            out_channels = nb_filts[1],\r\n",
    "            kernel_size = 3,\r\n",
    "            padding = 1,\r\n",
    "            stride = 1)\r\n",
    "        self.bn2 = nn.BatchNorm1d(num_features = nb_filts[1])\r\n",
    "        self.conv2 = nn.Conv1d(in_channels = nb_filts[1],\r\n",
    "            out_channels = nb_filts[1],\r\n",
    "            padding = 1,\r\n",
    "            kernel_size = 3,\r\n",
    "            stride = 1)\r\n",
    "        \r\n",
    "        if nb_filts[0] != nb_filts[1]:\r\n",
    "            self.downsample = True\r\n",
    "            self.conv_downsample = nn.Conv1d(in_channels = nb_filts[0],\r\n",
    "                out_channels = nb_filts[1],\r\n",
    "                padding = 0,\r\n",
    "                kernel_size = 1,\r\n",
    "                stride = 1)\r\n",
    "            \r\n",
    "        else:\r\n",
    "            self.downsample = False\r\n",
    "        self.mp = nn.MaxPool1d(3)\r\n",
    "        self.frm = FRM(\r\n",
    "            nb_dim = nb_filts[1],\r\n",
    "            do_add = True,\r\n",
    "            do_mul = True)\r\n",
    "        \r\n",
    "    def forward(self, x):\r\n",
    "        identity = x\r\n",
    "        if not self.first:\r\n",
    "            out = self.bn1(x)\r\n",
    "            out = self.lrelu_keras(out)\r\n",
    "        else:\r\n",
    "            out = x\r\n",
    "            \r\n",
    "        out = self.conv1(out)\r\n",
    "        out = self.bn2(out)\r\n",
    "        out = self.lrelu_keras(out)\r\n",
    "        out = self.conv2(out)\r\n",
    "        \r\n",
    "        if self.downsample:\r\n",
    "            identity = self.conv_downsample(identity)\r\n",
    "            \r\n",
    "        out += identity\r\n",
    "        out = self.mp(out)\r\n",
    "        out = self.frm(out)\r\n",
    "        return out"
   ],
   "outputs": [],
   "metadata": {}
  },
  {
   "cell_type": "markdown",
   "source": [
    "## LayerNorm"
   ],
   "metadata": {}
  },
  {
   "cell_type": "code",
   "execution_count": 124,
   "source": [
    "class LayerNorm(nn.Module):\r\n",
    "\r\n",
    "    def __init__(self, features, eps=1e-6):\r\n",
    "        super(LayerNorm,self).__init__()\r\n",
    "        self.gamma = nn.Parameter(torch.ones(features))\r\n",
    "        self.beta = nn.Parameter(torch.zeros(features))\r\n",
    "        self.eps = eps\r\n",
    "\r\n",
    "    def forward(self, x):\r\n",
    "        mean = x.mean(-1, keepdim=True)\r\n",
    "        std = x.std(-1, keepdim=True)\r\n",
    "        return self.gamma * (x - mean) / (std + self.eps) + self.beta"
   ],
   "outputs": [],
   "metadata": {}
  },
  {
   "cell_type": "markdown",
   "source": [
    "## SincConv Fast"
   ],
   "metadata": {}
  },
  {
   "cell_type": "code",
   "execution_count": 125,
   "source": [
    "class SincConv_fast(nn.Module):\r\n",
    "    \"\"\"Sinc-based convolution\r\n",
    "    Parameters\r\n",
    "    ----------\r\n",
    "    in_channels : `int`\r\n",
    "        Number of input channels. Must be 1.\r\n",
    "    out_channels : `int`\r\n",
    "        Number of filters.\r\n",
    "    kernel_size : `int`\r\n",
    "        Filter length.\r\n",
    "    sample_rate : `int`, optional\r\n",
    "        Sample rate. Defaults to 16000.\r\n",
    "    Usage\r\n",
    "    -----\r\n",
    "    See `torch.nn.Conv1d`\r\n",
    "    Reference\r\n",
    "    ---------\r\n",
    "    Mirco Ravanelli, Yoshua Bengio,\r\n",
    "    \"Speaker Recognition from raw waveform with SincNet\".\r\n",
    "    https://arxiv.org/abs/1808.00158\r\n",
    "    \"\"\"\r\n",
    "\r\n",
    "    @staticmethod\r\n",
    "    def to_mel(hz):\r\n",
    "        return 2595 * np.log10(1 + hz / 700)\r\n",
    "\r\n",
    "    @staticmethod\r\n",
    "    def to_hz(mel):\r\n",
    "        return 700 * (10 ** (mel / 2595) - 1)\r\n",
    "\r\n",
    "    def __init__(self, out_channels, kernel_size, sample_rate=16000, in_channels=1,\r\n",
    "                 stride=1, padding=0, dilation=1, bias=False, groups=1, min_low_hz=50, min_band_hz=50):\r\n",
    "\r\n",
    "        super(SincConv_fast,self).__init__()\r\n",
    "\r\n",
    "        if in_channels != 1:\r\n",
    "            #msg = (f'SincConv only support one input channel '\r\n",
    "            #       f'(here, in_channels = {in_channels:d}).')\r\n",
    "            msg = \"SincConv only support one input channel (here, in_channels = {%i})\" % (in_channels)\r\n",
    "            raise ValueError(msg)\r\n",
    "\r\n",
    "        self.out_channels = out_channels\r\n",
    "        self.kernel_size = kernel_size\r\n",
    "        \r\n",
    "        # Forcing the filters to be odd (i.e, perfectly symmetrics)\r\n",
    "        if kernel_size%2==0:\r\n",
    "            self.kernel_size=self.kernel_size+1\r\n",
    "            \r\n",
    "        self.stride = stride\r\n",
    "        self.padding = padding\r\n",
    "        self.dilation = dilation\r\n",
    "\r\n",
    "        if bias:\r\n",
    "            raise ValueError('SincConv does not support bias.')\r\n",
    "        if groups > 1:\r\n",
    "            raise ValueError('SincConv does not support groups.')\r\n",
    "\r\n",
    "        self.sample_rate = sample_rate\r\n",
    "        self.min_low_hz = min_low_hz\r\n",
    "        self.min_band_hz = min_band_hz\r\n",
    "\r\n",
    "        # initialize filterbanks such that they are equally spaced in Mel scale\r\n",
    "        low_hz = 30\r\n",
    "        high_hz = self.sample_rate / 2 - (self.min_low_hz + self.min_band_hz)\r\n",
    "\r\n",
    "        mel = np.linspace(self.to_mel(low_hz),\r\n",
    "                          self.to_mel(high_hz),\r\n",
    "                          self.out_channels + 1)\r\n",
    "        hz = self.to_hz(mel)\r\n",
    "        \r\n",
    "\r\n",
    "        # filter lower frequency (out_channels, 1)\r\n",
    "        self.low_hz_ = nn.Parameter(torch.Tensor(hz[:-1]).view(-1, 1))\r\n",
    "\r\n",
    "        # filter frequency band (out_channels, 1)\r\n",
    "        self.band_hz_ = nn.Parameter(torch.Tensor(np.diff(hz)).view(-1, 1))\r\n",
    "\r\n",
    "        # Hamming window\r\n",
    "        #self.window_ = torch.hamming_window(self.kernel_size)\r\n",
    "        n_lin=torch.linspace(0, (self.kernel_size/2)-1, steps=int((self.kernel_size/2))) # computing only half of the window\r\n",
    "        self.window_=0.54-0.46*torch.cos(2*math.pi*n_lin/self.kernel_size);\r\n",
    "\r\n",
    "        # (1, kernel_size/2)\r\n",
    "        n = (self.kernel_size - 1) / 2.0\r\n",
    "        self.n_ = 2*math.pi*torch.arange(-n, 0).view(1, -1) / self.sample_rate # Due to symmetry, I only need half of the time axes\r\n",
    "\r\n",
    "    def forward(self, waveforms):\r\n",
    "        \"\"\"\r\n",
    "        Parameters\r\n",
    "        ----------\r\n",
    "        waveforms : `torch.Tensor` (batch_size, 1, n_samples)\r\n",
    "            Batch of waveforms.\r\n",
    "        Returns\r\n",
    "        -------\r\n",
    "        features : `torch.Tensor` (batch_size, out_channels, n_samples_out)\r\n",
    "            Batch of sinc filters activations.\r\n",
    "        \"\"\"\r\n",
    "\r\n",
    "        self.n_ = self.n_.to(waveforms.device)\r\n",
    "\r\n",
    "        self.window_ = self.window_.to(waveforms.device)\r\n",
    "\r\n",
    "        low = self.min_low_hz  + torch.abs(self.low_hz_)\r\n",
    "        \r\n",
    "        high = torch.clamp(low + self.min_band_hz + torch.abs(self.band_hz_),self.min_low_hz,self.sample_rate/2)\r\n",
    "        band=(high-low)[:,0]\r\n",
    "        \r\n",
    "        f_times_t_low = torch.matmul(low, self.n_)\r\n",
    "        f_times_t_high = torch.matmul(high, self.n_)\r\n",
    "\r\n",
    "        band_pass_left=((torch.sin(f_times_t_high)-torch.sin(f_times_t_low))/(self.n_/2))*self.window_ # Equivalent of Eq.4 of the reference paper (SPEAKER RECOGNITION FROM RAW WAVEFORM WITH SINCNET). I just have expanded the sinc and simplified the terms. This way I avoid several useless computations. \r\n",
    "        band_pass_center = 2*band.view(-1,1)\r\n",
    "        band_pass_right= torch.flip(band_pass_left,dims=[1])\r\n",
    "        \r\n",
    "        \r\n",
    "        band_pass=torch.cat([band_pass_left,band_pass_center,band_pass_right],dim=1)\r\n",
    "\r\n",
    "        \r\n",
    "        band_pass = band_pass / (2*band[:,None])\r\n",
    "        \r\n",
    "\r\n",
    "        self.filters = (band_pass).view(\r\n",
    "            self.out_channels, 1, self.kernel_size)\r\n",
    "\r\n",
    "        return F.conv1d(waveforms, self.filters, stride=self.stride,\r\n",
    "                        padding=self.padding, dilation=self.dilation,\r\n",
    "                         bias=None, groups=1)"
   ],
   "outputs": [],
   "metadata": {}
  },
  {
   "cell_type": "markdown",
   "source": [
    "## RawNet2"
   ],
   "metadata": {}
  },
  {
   "cell_type": "code",
   "execution_count": 126,
   "source": [
    "class RawNet2(nn.Module):\r\n",
    "    def __init__(self, d_args):\r\n",
    "        super(RawNet2, self).__init__()\r\n",
    "\r\n",
    "        self.ln = LayerNorm(d_args['nb_samp'])\r\n",
    "        self.first_conv = SincConv_fast(in_channels = d_args['in_channels'],\r\n",
    "            out_channels = d_args['filts'][0],\r\n",
    "            kernel_size = d_args['first_conv']\r\n",
    "            )\r\n",
    "\r\n",
    "        self.first_bn = nn.BatchNorm1d(num_features = d_args['filts'][0])\r\n",
    "        self.lrelu = nn.LeakyReLU()\r\n",
    "        self.lrelu_keras = nn.LeakyReLU(negative_slope = 0.3)\r\n",
    "        \r\n",
    "        self.block0 = nn.Sequential(Residual_block_wFRM(nb_filts = d_args['filts'][1], first = True))\r\n",
    "        self.block1 = nn.Sequential(Residual_block_wFRM(nb_filts = d_args['filts'][1]))\r\n",
    " \r\n",
    "        self.block2 = nn.Sequential(Residual_block_wFRM(nb_filts = d_args['filts'][2]))\r\n",
    "        d_args['filts'][2][0] = d_args['filts'][2][1]\r\n",
    "        self.block3 = nn.Sequential(Residual_block_wFRM(nb_filts = d_args['filts'][2]))\r\n",
    "        self.block4 = nn.Sequential(Residual_block_wFRM(nb_filts = d_args['filts'][2]))\r\n",
    "        self.block5 = nn.Sequential(Residual_block_wFRM(nb_filts = d_args['filts'][2]))\r\n",
    "        self.avgpool = nn.AdaptiveAvgPool1d(1)\r\n",
    "\r\n",
    "        self.bn_before_gru = nn.BatchNorm1d(num_features = d_args['filts'][2][-1])\r\n",
    "        self.gru = nn.GRU(input_size = d_args['filts'][2][-1],\r\n",
    "            hidden_size = d_args['gru_node'],\r\n",
    "            num_layers = d_args['nb_gru_layer'],\r\n",
    "            batch_first = True)\r\n",
    "\r\n",
    "        \r\n",
    "        self.fc1_gru = nn.Linear(in_features = d_args['gru_node'],\r\n",
    "            out_features = d_args['nb_fc_node'])\r\n",
    "        self.fc2_gru = nn.Linear(in_features = d_args['nb_fc_node'],\r\n",
    "            out_features = d_args['nb_classes'],\r\n",
    "            bias = True)\r\n",
    "        \r\n",
    "        self.sig = nn.Sigmoid()\r\n",
    "        \r\n",
    "    def forward(self, x, y = 0, is_test=False):\r\n",
    "        #follow sincNet recipe\r\n",
    "        nb_samp = x.shape[0]\r\n",
    "        len_seq = x.shape[1]\r\n",
    "        x = self.ln(x)\r\n",
    "        x=x.view(nb_samp,1,len_seq)\r\n",
    "        x = F.max_pool1d(torch.abs(self.first_conv(x)), 3)\r\n",
    "        x = self.first_bn(x)\r\n",
    "        x = self.lrelu_keras(x)\r\n",
    "        \r\n",
    "        x = self.block0(x)\r\n",
    "        x = self.block1(x)\r\n",
    "\r\n",
    "        x = self.block2(x)\r\n",
    "        x = self.block3(x)\r\n",
    "        x = self.block4(x)\r\n",
    "        x = self.block5(x)\r\n",
    "\r\n",
    "        x = self.bn_before_gru(x)\r\n",
    "        x = self.lrelu_keras(x)\r\n",
    "        x = x.permute(0, 2, 1)  #(batch, filt, time) >> (batch, time, filt)\r\n",
    "        self.gru.flatten_parameters()\r\n",
    "        x, _ = self.gru(x)\r\n",
    "        x = x[:,-1,:]\r\n",
    "        code = self.fc1_gru(x)\r\n",
    "        if is_test: return code\r\n",
    "        \r\n",
    "        code_norm = code.norm(p=2,dim=1, keepdim=True) / 10.\r\n",
    "        code = torch.div(code, code_norm)\r\n",
    "        out = self.fc2_gru(code)\r\n",
    "        return out"
   ],
   "outputs": [],
   "metadata": {}
  },
  {
   "cell_type": "markdown",
   "source": [
    "## Training"
   ],
   "metadata": {}
  },
  {
   "cell_type": "code",
   "execution_count": 127,
   "source": [
    "model_dict = {}\r\n",
    "model_dict['nb_classes'] = 508\r\n",
    "model_dict['first_conv'] = 251\r\n",
    "model_dict['in_channels'] = 1\r\n",
    "model_dict['filts'] = [128, [128,128], [128,256], [256,256]]\r\n",
    "model_dict['m_blocks'] = [2, 4]\r\n",
    "model_dict['nb_fc_att_node'] =[1]\r\n",
    "model_dict['nb_fc_node'] = 1024\r\n",
    "model_dict['gru_node'] = 1024\r\n",
    "model_dict['nb_gru_layer'] = 1\r\n",
    "model_dict['nb_samp'] = NUMBER_OF_SAMPLES"
   ],
   "outputs": [],
   "metadata": {}
  },
  {
   "cell_type": "code",
   "execution_count": 128,
   "source": [
    "LEARNING_RATE = 1e-3\r\n",
    "WEIGHT_DECAY = 1e-4\r\n",
    "AMSGRAD = True\r\n",
    "EPOCHS = 5\r\n",
    "BATCH_SIZE = 2\r\n",
    "\r\n",
    "# Higher number may cause errors in notebook\r\n",
    "NUMBER_OF_WORKERS = 0"
   ],
   "outputs": [],
   "metadata": {}
  },
  {
   "cell_type": "code",
   "execution_count": 129,
   "source": [
    "bangla_asr_data_loader = data.DataLoader(bangla_asr_dataset,\r\n",
    "            batch_size = BATCH_SIZE, \r\n",
    "            shuffle = False,\r\n",
    "            drop_last = False,\r\n",
    "            num_workers = NUMBER_OF_WORKERS)"
   ],
   "outputs": [],
   "metadata": {}
  },
  {
   "cell_type": "markdown",
   "source": [
    "### Batch explained:\r\n",
    "\r\n",
    "If batch size = 4\r\n",
    "\r\n",
    "One batch = [ tensor([[[x,x,x]]], [[x,x,x]], [[x,x,x]], [[x,x,x]]])    , (label1, label2, label3, label4) ]"
   ],
   "metadata": {}
  },
  {
   "cell_type": "code",
   "execution_count": 130,
   "source": [
    "model = RawNet2(model_dict)\r\n",
    "\r\n",
    "model.to(device)"
   ],
   "outputs": [
    {
     "output_type": "execute_result",
     "data": {
      "text/plain": [
       "RawNet2(\n",
       "  (ln): LayerNorm()\n",
       "  (first_conv): SincConv_fast()\n",
       "  (first_bn): BatchNorm1d(128, eps=1e-05, momentum=0.1, affine=True, track_running_stats=True)\n",
       "  (lrelu): LeakyReLU(negative_slope=0.01)\n",
       "  (lrelu_keras): LeakyReLU(negative_slope=0.3)\n",
       "  (block0): Sequential(\n",
       "    (0): Residual_block_wFRM(\n",
       "      (lrelu): LeakyReLU(negative_slope=0.01)\n",
       "      (lrelu_keras): LeakyReLU(negative_slope=0.3)\n",
       "      (conv1): Conv1d(128, 128, kernel_size=(3,), stride=(1,), padding=(1,))\n",
       "      (bn2): BatchNorm1d(128, eps=1e-05, momentum=0.1, affine=True, track_running_stats=True)\n",
       "      (conv2): Conv1d(128, 128, kernel_size=(3,), stride=(1,), padding=(1,))\n",
       "      (mp): MaxPool1d(kernel_size=3, stride=3, padding=0, dilation=1, ceil_mode=False)\n",
       "      (frm): FRM(\n",
       "        (fc): Linear(in_features=128, out_features=128, bias=True)\n",
       "        (sig): Sigmoid()\n",
       "      )\n",
       "    )\n",
       "  )\n",
       "  (block1): Sequential(\n",
       "    (0): Residual_block_wFRM(\n",
       "      (bn1): BatchNorm1d(128, eps=1e-05, momentum=0.1, affine=True, track_running_stats=True)\n",
       "      (lrelu): LeakyReLU(negative_slope=0.01)\n",
       "      (lrelu_keras): LeakyReLU(negative_slope=0.3)\n",
       "      (conv1): Conv1d(128, 128, kernel_size=(3,), stride=(1,), padding=(1,))\n",
       "      (bn2): BatchNorm1d(128, eps=1e-05, momentum=0.1, affine=True, track_running_stats=True)\n",
       "      (conv2): Conv1d(128, 128, kernel_size=(3,), stride=(1,), padding=(1,))\n",
       "      (mp): MaxPool1d(kernel_size=3, stride=3, padding=0, dilation=1, ceil_mode=False)\n",
       "      (frm): FRM(\n",
       "        (fc): Linear(in_features=128, out_features=128, bias=True)\n",
       "        (sig): Sigmoid()\n",
       "      )\n",
       "    )\n",
       "  )\n",
       "  (block2): Sequential(\n",
       "    (0): Residual_block_wFRM(\n",
       "      (bn1): BatchNorm1d(128, eps=1e-05, momentum=0.1, affine=True, track_running_stats=True)\n",
       "      (lrelu): LeakyReLU(negative_slope=0.01)\n",
       "      (lrelu_keras): LeakyReLU(negative_slope=0.3)\n",
       "      (conv1): Conv1d(128, 256, kernel_size=(3,), stride=(1,), padding=(1,))\n",
       "      (bn2): BatchNorm1d(256, eps=1e-05, momentum=0.1, affine=True, track_running_stats=True)\n",
       "      (conv2): Conv1d(256, 256, kernel_size=(3,), stride=(1,), padding=(1,))\n",
       "      (conv_downsample): Conv1d(128, 256, kernel_size=(1,), stride=(1,))\n",
       "      (mp): MaxPool1d(kernel_size=3, stride=3, padding=0, dilation=1, ceil_mode=False)\n",
       "      (frm): FRM(\n",
       "        (fc): Linear(in_features=256, out_features=256, bias=True)\n",
       "        (sig): Sigmoid()\n",
       "      )\n",
       "    )\n",
       "  )\n",
       "  (block3): Sequential(\n",
       "    (0): Residual_block_wFRM(\n",
       "      (bn1): BatchNorm1d(256, eps=1e-05, momentum=0.1, affine=True, track_running_stats=True)\n",
       "      (lrelu): LeakyReLU(negative_slope=0.01)\n",
       "      (lrelu_keras): LeakyReLU(negative_slope=0.3)\n",
       "      (conv1): Conv1d(256, 256, kernel_size=(3,), stride=(1,), padding=(1,))\n",
       "      (bn2): BatchNorm1d(256, eps=1e-05, momentum=0.1, affine=True, track_running_stats=True)\n",
       "      (conv2): Conv1d(256, 256, kernel_size=(3,), stride=(1,), padding=(1,))\n",
       "      (mp): MaxPool1d(kernel_size=3, stride=3, padding=0, dilation=1, ceil_mode=False)\n",
       "      (frm): FRM(\n",
       "        (fc): Linear(in_features=256, out_features=256, bias=True)\n",
       "        (sig): Sigmoid()\n",
       "      )\n",
       "    )\n",
       "  )\n",
       "  (block4): Sequential(\n",
       "    (0): Residual_block_wFRM(\n",
       "      (bn1): BatchNorm1d(256, eps=1e-05, momentum=0.1, affine=True, track_running_stats=True)\n",
       "      (lrelu): LeakyReLU(negative_slope=0.01)\n",
       "      (lrelu_keras): LeakyReLU(negative_slope=0.3)\n",
       "      (conv1): Conv1d(256, 256, kernel_size=(3,), stride=(1,), padding=(1,))\n",
       "      (bn2): BatchNorm1d(256, eps=1e-05, momentum=0.1, affine=True, track_running_stats=True)\n",
       "      (conv2): Conv1d(256, 256, kernel_size=(3,), stride=(1,), padding=(1,))\n",
       "      (mp): MaxPool1d(kernel_size=3, stride=3, padding=0, dilation=1, ceil_mode=False)\n",
       "      (frm): FRM(\n",
       "        (fc): Linear(in_features=256, out_features=256, bias=True)\n",
       "        (sig): Sigmoid()\n",
       "      )\n",
       "    )\n",
       "  )\n",
       "  (block5): Sequential(\n",
       "    (0): Residual_block_wFRM(\n",
       "      (bn1): BatchNorm1d(256, eps=1e-05, momentum=0.1, affine=True, track_running_stats=True)\n",
       "      (lrelu): LeakyReLU(negative_slope=0.01)\n",
       "      (lrelu_keras): LeakyReLU(negative_slope=0.3)\n",
       "      (conv1): Conv1d(256, 256, kernel_size=(3,), stride=(1,), padding=(1,))\n",
       "      (bn2): BatchNorm1d(256, eps=1e-05, momentum=0.1, affine=True, track_running_stats=True)\n",
       "      (conv2): Conv1d(256, 256, kernel_size=(3,), stride=(1,), padding=(1,))\n",
       "      (mp): MaxPool1d(kernel_size=3, stride=3, padding=0, dilation=1, ceil_mode=False)\n",
       "      (frm): FRM(\n",
       "        (fc): Linear(in_features=256, out_features=256, bias=True)\n",
       "        (sig): Sigmoid()\n",
       "      )\n",
       "    )\n",
       "  )\n",
       "  (avgpool): AdaptiveAvgPool1d(output_size=1)\n",
       "  (bn_before_gru): BatchNorm1d(256, eps=1e-05, momentum=0.1, affine=True, track_running_stats=True)\n",
       "  (gru): GRU(256, 1024, batch_first=True)\n",
       "  (fc1_gru): Linear(in_features=1024, out_features=1024, bias=True)\n",
       "  (fc2_gru): Linear(in_features=1024, out_features=508, bias=True)\n",
       "  (sig): Sigmoid()\n",
       ")"
      ]
     },
     "metadata": {},
     "execution_count": 130
    }
   ],
   "metadata": {}
  },
  {
   "cell_type": "code",
   "execution_count": 131,
   "source": [
    "model(bangla_asr_dataset[0][0]).shape"
   ],
   "outputs": [
    {
     "output_type": "execute_result",
     "data": {
      "text/plain": [
       "torch.Size([1, 508])"
      ]
     },
     "metadata": {},
     "execution_count": 131
    }
   ],
   "metadata": {}
  },
  {
   "cell_type": "code",
   "execution_count": 132,
   "source": [
    "params = [\r\n",
    "    {\r\n",
    "        'params': [\r\n",
    "            param for name, param in model.named_parameters()\r\n",
    "            if 'bn' not in name\r\n",
    "        ]\r\n",
    "    },\r\n",
    "    {\r\n",
    "        'params': [\r\n",
    "            param for name, param in model.named_parameters()\r\n",
    "            if 'bn' in name\r\n",
    "        ],\r\n",
    "        'weight_decay':\r\n",
    "        0\r\n",
    "    },\r\n",
    "]\r\n",
    "\r\n",
    "criterion = {}\r\n",
    "criterion['cce'] = nn.CrossEntropyLoss()\r\n",
    "\r\n",
    "optimizer = torch.optim.Adam(params,\r\n",
    "            lr = LEARNING_RATE,\r\n",
    "            weight_decay = WEIGHT_DECAY,\r\n",
    "            amsgrad = AMSGRAD)"
   ],
   "outputs": [],
   "metadata": {}
  },
  {
   "cell_type": "code",
   "execution_count": null,
   "source": [
    "def train_model(model, db_gen, optimizer, epoch, args, device, lr_scheduler, criterion):\r\n",
    "    model.train()\r\n",
    "    with tqdm(total = len(db_gen), ncols = 70) as pbar:\r\n",
    "        for m_batch, m_label in db_gen:\r\n",
    "            \r\n",
    "            m_batch, m_label = m_batch.to(device), m_label.to(device)\r\n",
    "\r\n",
    "            output = model(m_batch, m_label)\r\n",
    "            cce_loss = criterion['cce'](output, m_label)\r\n",
    "            loss = cce_loss\r\n",
    "\r\n",
    "            optimizer.zero_grad()\r\n",
    "            loss.backward()\r\n",
    "            optimizer.step()\r\n",
    "            pbar.set_description('epoch: %d, cce:%.3f'%(epoch, cce_loss))\r\n",
    "            pbar.update(1)\r\n",
    "            if args.do_lr_decay:\r\n",
    "                if args.lr_decay == 'keras': lr_scheduler.step()"
   ],
   "outputs": [],
   "metadata": {}
  },
  {
   "cell_type": "code",
   "execution_count": 134,
   "source": [
    "for epoch in tqdm(range(EPOCHS)):\r\n",
    "    train_model(model = model,\r\n",
    "        db_gen = devset_gen,\r\n",
    "        args = args,\r\n",
    "        optimizer = optimizer,\r\n",
    "        lr_scheduler = lr_scheduler,\r\n",
    "        criterion = criterion,\r\n",
    "        device = device,\r\n",
    "        epoch = epoch)\r\n",
    "        \r\n",
    "    TA_eval_eer = time_augmented_evaluate_model(mode = 'eval',\r\n",
    "        model = model,\r\n",
    "        db_gen = TA_evalset_gen, \r\n",
    "        l_utt = l_eval,\r\n",
    "        save_dir = save_dir,\r\n",
    "        epoch = epoch,\r\n",
    "        device = device,\r\n",
    "        l_trial = l_eval_trial,\r\n",
    "        args = args)\r\n",
    "    f_eer.write('epoch:%d, TA_eval_eer:%.4f\\n'%(epoch, TA_eval_eer))\r\n",
    "        \r\n",
    "    save_model_dict = model_1gpu.state_dict() if args.mg else model.state_dict()\r\n",
    "    if float(TA_eval_eer) < best_TA_eval_eer:\r\n",
    "        print('New best TA_EER: %f'%float(TA_eval_eer))\r\n",
    "        best_TA_eval_eer = float(TA_eval_eer)\r\n"
   ],
   "outputs": [
    {
     "output_type": "error",
     "ename": "IndentationError",
     "evalue": "unindent does not match any outer indentation level (<tokenize>, line 31)",
     "traceback": [
      "\u001b[1;36m  File \u001b[1;32m\"<tokenize>\"\u001b[1;36m, line \u001b[1;32m31\u001b[0m\n\u001b[1;33m    f_eer.close()\u001b[0m\n\u001b[1;37m    ^\u001b[0m\n\u001b[1;31mIndentationError\u001b[0m\u001b[1;31m:\u001b[0m unindent does not match any outer indentation level\n"
     ]
    }
   ],
   "metadata": {}
  },
  {
   "cell_type": "code",
   "execution_count": null,
   "source": [],
   "outputs": [],
   "metadata": {}
  }
 ],
 "metadata": {
  "orig_nbformat": 4,
  "language_info": {
   "name": "python",
   "version": "3.6.13",
   "mimetype": "text/x-python",
   "codemirror_mode": {
    "name": "ipython",
    "version": 3
   },
   "pygments_lexer": "ipython3",
   "nbconvert_exporter": "python",
   "file_extension": ".py"
  },
  "kernelspec": {
   "name": "python3",
   "display_name": "Python 3.6.13 64-bit ('pytorch': conda)"
  },
  "interpreter": {
   "hash": "83fea67622c0fa859a960c0bf8a89199ff21c56f3cdd300f29516e12427a6ea7"
  }
 },
 "nbformat": 4,
 "nbformat_minor": 2
}